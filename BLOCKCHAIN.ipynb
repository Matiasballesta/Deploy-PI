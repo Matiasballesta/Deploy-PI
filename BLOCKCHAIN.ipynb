{
  "cells": [
    {
      "cell_type": "markdown",
      "metadata": {
        "id": "view-in-github",
        "colab_type": "text"
      },
      "source": [
        "<a href=\"https://colab.research.google.com/github/Matiasballesta/Deploy-PI/blob/master/BLOCKCHAIN.ipynb\" target=\"_parent\"><img src=\"https://colab.research.google.com/assets/colab-badge.svg\" alt=\"Open In Colab\"/></a>"
      ]
    },
    {
      "cell_type": "markdown",
      "metadata": {
        "id": "nnNMBdboBqCc"
      },
      "source": []
    },
    {
      "cell_type": "code",
      "execution_count": null,
      "metadata": {
        "colab": {
          "base_uri": "https://localhost:8080/"
        },
        "id": "EbsL4aWBBs0P",
        "outputId": "6cdafb13-23a2-40c6-c3b8-c1f99fab512d"
      },
      "outputs": [
        {
          "name": "stdout",
          "output_type": "stream",
          "text": [
            "Looking in indexes: https://pypi.org/simple, https://us-python.pkg.dev/colab-wheels/public/simple/\n",
            "Collecting flask==0.12.2\n",
            "  Downloading Flask-0.12.2-py2.py3-none-any.whl (83 kB)\n",
            "\u001b[K     |████████████████████████████████| 83 kB 1.1 MB/s \n",
            "\u001b[?25hRequirement already satisfied: itsdangerous>=0.21 in /usr/local/lib/python3.7/dist-packages (from flask==0.12.2) (1.1.0)\n",
            "Requirement already satisfied: Jinja2>=2.4 in /usr/local/lib/python3.7/dist-packages (from flask==0.12.2) (2.11.3)\n",
            "Requirement already satisfied: click>=2.0 in /usr/local/lib/python3.7/dist-packages (from flask==0.12.2) (7.1.2)\n",
            "Requirement already satisfied: Werkzeug>=0.7 in /usr/local/lib/python3.7/dist-packages (from flask==0.12.2) (1.0.1)\n",
            "Requirement already satisfied: MarkupSafe>=0.23 in /usr/local/lib/python3.7/dist-packages (from Jinja2>=2.4->flask==0.12.2) (2.0.1)\n",
            "Installing collected packages: flask\n",
            "  Attempting uninstall: flask\n",
            "    Found existing installation: Flask 1.1.4\n",
            "    Uninstalling Flask-1.1.4:\n",
            "      Successfully uninstalled Flask-1.1.4\n",
            "Successfully installed flask-0.12.2\n"
          ]
        }
      ],
      "source": [
        "!pip install flask==0.12.2"
      ]
    },
    {
      "cell_type": "markdown",
      "metadata": {
        "id": "5muS7qmni5mW"
      },
      "source": []
    },
    {
      "cell_type": "code",
      "execution_count": null,
      "metadata": {
        "colab": {
          "base_uri": "https://localhost:8080/"
        },
        "id": "AyuBgUIvB8aw",
        "outputId": "f2b8df9f-5481-49b6-9662-d95889c5c64e"
      },
      "outputs": [
        {
          "name": "stdout",
          "output_type": "stream",
          "text": [
            "Looking in indexes: https://pypi.org/simple, https://us-python.pkg.dev/colab-wheels/public/simple/\n",
            "Collecting flask-ngrok==0.0.25\n",
            "  Downloading flask_ngrok-0.0.25-py3-none-any.whl (3.1 kB)\n",
            "Requirement already satisfied: Flask>=0.8 in /usr/local/lib/python3.7/dist-packages (from flask-ngrok==0.0.25) (1.1.4)\n",
            "Requirement already satisfied: requests in /usr/local/lib/python3.7/dist-packages (from flask-ngrok==0.0.25) (2.23.0)\n",
            "Requirement already satisfied: Werkzeug<2.0,>=0.15 in /usr/local/lib/python3.7/dist-packages (from Flask>=0.8->flask-ngrok==0.0.25) (1.0.1)\n",
            "Requirement already satisfied: itsdangerous<2.0,>=0.24 in /usr/local/lib/python3.7/dist-packages (from Flask>=0.8->flask-ngrok==0.0.25) (1.1.0)\n",
            "Requirement already satisfied: click<8.0,>=5.1 in /usr/local/lib/python3.7/dist-packages (from Flask>=0.8->flask-ngrok==0.0.25) (7.1.2)\n",
            "Requirement already satisfied: Jinja2<3.0,>=2.10.1 in /usr/local/lib/python3.7/dist-packages (from Flask>=0.8->flask-ngrok==0.0.25) (2.11.3)\n",
            "Requirement already satisfied: MarkupSafe>=0.23 in /usr/local/lib/python3.7/dist-packages (from Jinja2<3.0,>=2.10.1->Flask>=0.8->flask-ngrok==0.0.25) (2.0.1)\n",
            "Requirement already satisfied: certifi>=2017.4.17 in /usr/local/lib/python3.7/dist-packages (from requests->flask-ngrok==0.0.25) (2022.6.15)\n",
            "Requirement already satisfied: idna<3,>=2.5 in /usr/local/lib/python3.7/dist-packages (from requests->flask-ngrok==0.0.25) (2.10)\n",
            "Requirement already satisfied: urllib3!=1.25.0,!=1.25.1,<1.26,>=1.21.1 in /usr/local/lib/python3.7/dist-packages (from requests->flask-ngrok==0.0.25) (1.24.3)\n",
            "Requirement already satisfied: chardet<4,>=3.0.2 in /usr/local/lib/python3.7/dist-packages (from requests->flask-ngrok==0.0.25) (3.0.4)\n",
            "Installing collected packages: flask-ngrok\n",
            "Successfully installed flask-ngrok-0.0.25\n"
          ]
        }
      ],
      "source": [
        "!pip install flask-ngrok==0.0.25"
      ]
    },
    {
      "cell_type": "code",
      "execution_count": null,
      "metadata": {
        "id": "9GExm8kvCHBV"
      },
      "outputs": [],
      "source": [
        "# Importacion de librerias\n",
        "import datetime\n",
        "import hashlib\n",
        "import json\n",
        "from flask import Flask, jsonify\n",
        "from flask_ngrok import run_with_ngrok"
      ]
    },
    {
      "cell_type": "code",
      "execution_count": null,
      "metadata": {
        "id": "SdLapxF5bpFA"
      },
      "outputs": [],
      "source": [
        "# Creación de la Blockchain\n",
        "class Blockchain:\n",
        "    \n",
        "  def __init__(self):\n",
        "    \"\"\" Constructor de la clase Blockchain. \"\"\"\n",
        "\n",
        "    self.chain = []\n",
        "    self.create_block(proof = 1, previous_hash = '0')\n",
        "      \n",
        "  \n",
        "  def create_block(self, proof, previous_hash):\n",
        "    \"\"\" Creación de un nuevo bloque. \n",
        "\n",
        "      Arguments:\n",
        "        - proof: Nounce del bloque actual. (proof != hash)\n",
        "        - previous_hash: Hash del bloque previo.\n",
        "\n",
        "      Returns: \n",
        "        - block: Nuevo bloque creado. \n",
        "      \"\"\"\n",
        "\n",
        "    block = { 'index'         : len(self.chain)+1,\n",
        "              'timestamp'     : str(datetime.datetime.now()),\n",
        "              'proof'         : proof,\n",
        "              'previous_hash' : previous_hash}\n",
        "    self.chain.append(block)\n",
        "    return block\n",
        "\n",
        "  def get_previous_block(self):\n",
        "    \"\"\" Obtención del bloque previo de la Blockchain .\n",
        "    \n",
        "      Returns:\n",
        "        - Obtención del último bloque de la Blockchain. \"\"\"\n",
        "\n",
        "    return self.chain[-1]\n",
        "  \n",
        "  def proof_of_work(self, previous_proof):\n",
        "    \"\"\" Protocolo de concenso Proof of Work (PoW).\n",
        "    \n",
        "      Arguments:\n",
        "        - previous_proof: Nounce del bloque previo.\n",
        "\n",
        "      Returns:\n",
        "        - new_proof: Devolución del nuevo nounce obtenido con PoW. \"\"\"\n",
        "\n",
        "    new_proof = 1\n",
        "    check_proof = False\n",
        "    while check_proof is False:\n",
        "        hash_operation = hashlib.sha256(str(new_proof**2 - previous_proof**2).encode()).hexdigest()\n",
        "        if hash_operation[:4] == '0000':\n",
        "            check_proof = True\n",
        "        else: \n",
        "            new_proof += 1\n",
        "    return new_proof\n",
        "  \n",
        "  def hash(self, block):\n",
        "    \"\"\" Cálculo del hash de un bloque.\n",
        "    \n",
        "    Arguments:\n",
        "        - block: Identifica a un bloque de la Blockchain.\n",
        "    \n",
        "    Returns:\n",
        "        - hash_block: Devuelve el hash del bloque \"\"\"\n",
        "\n",
        "    encoded_block = json.dumps(block, sort_keys = True).encode()\n",
        "    hash_block = hashlib.sha256(encoded_block).hexdigest()\n",
        "    return hash_block\n",
        "  \n",
        "  def is_chain_valid(self, chain):\n",
        "    \"\"\" Determina si la Blockchain es válida. \n",
        "    \n",
        "    Arguments:\n",
        "        - chain: Cadena de bloques que contiene toda la \n",
        "                  información de las transacciones.\n",
        "    \n",
        "    Returns:\n",
        "        - True/False: Devuelve un booleano en función de la validez de la \n",
        "                      Blockchain. (True = Válida, False = Inválida) \"\"\"\n",
        "\n",
        "    previous_block = chain[0]\n",
        "    block_index = 1\n",
        "    while block_index < len(chain):\n",
        "        block = chain[block_index]\n",
        "        if block['previous_hash'] != self.hash(previous_block):\n",
        "            return False\n",
        "        previous_proof = previous_block['proof']\n",
        "        proof = block['proof']\n",
        "        hash_operation = hashlib.sha256(str(proof**2 - previous_proof**2).encode()).hexdigest()\n",
        "        if hash_operation[:4] != '0000':\n",
        "            return False\n",
        "        previous_block = block\n",
        "        block_index += 1\n",
        "    return True"
      ]
    },
    {
      "cell_type": "code",
      "execution_count": null,
      "metadata": {
        "id": "R0Fz-UG5buW3"
      },
      "outputs": [],
      "source": [
        "# Crear una aplicación web\n",
        "# Ejecución de la app con Notebook\n",
        "app = Flask(__name__)\n",
        "run_with_ngrok(app)  \n",
        "\n",
        "# Si se obtiene un error 500, actualizar flask y ejecutar la siguiente línea\n",
        "app.config['JSONIFY_PRETTYPRINT_REGULAR'] = False\n",
        "\n",
        "# Creación de la Blockchain\n",
        "blockchain = Blockchain()\n",
        "\n",
        "\n",
        "@app.route('/mine_block', methods=['GET'])\n",
        "def mine_block():\n",
        "  \"\"\" Minado de un nuevo bloque \"\"\"\n",
        "\n",
        "  previous_block  = blockchain.get_previous_block()\n",
        "  previous_proof  = previous_block['proof']\n",
        "  proof           = blockchain.proof_of_work(previous_proof)\n",
        "  previous_hash   = blockchain.hash(previous_block)\n",
        "  block           = blockchain.create_block(proof, previous_hash)\n",
        "  response = {'message'       : '¡Enhorabuena, has minado un nuevo bloque!', \n",
        "              'index'         : block['index'],\n",
        "              'timestamp'     : block['timestamp'],\n",
        "              'proof'         : block['proof'],\n",
        "              'previous_hash' : block['previous_hash']}\n",
        "  return jsonify(response), 200\n",
        "\n",
        "@app.route('/get_chain', methods=['GET'])\n",
        "def get_chain():\n",
        "  \"\"\" Obtención de la Blockchain \"\"\"\n",
        "  response = {'chain'   : blockchain.chain, \n",
        "              'length'  : len(blockchain.chain)}\n",
        "  return jsonify(response), 200\n",
        "\n",
        "@app.route('/is_valid', methods = ['GET'])\n",
        "def is_valid():\n",
        "  \"\"\" Comprobación si la Blockchain es válida \"\"\"\n",
        "\n",
        "  is_valid = blockchain.is_chain_valid(blockchain.chain)\n",
        "  if is_valid:\n",
        "      response = {'message' : '¡La cadena de bloques es válida!'}\n",
        "  else:\n",
        "      response = {'message' : '¡La cadena de bloques NO es válida!'}\n",
        "  return jsonify(response), 200"
      ]
    },
    {
      "cell_type": "code",
      "execution_count": 6,
      "metadata": {
        "colab": {
          "base_uri": "https://localhost:8080/"
        },
        "id": "YDnSQYv9bxoM",
        "outputId": "a9d7cfef-e032-40ef-813f-0955d2026013"
      },
      "outputs": [
        {
          "metadata": {
            "tags": null
          },
          "name": "stderr",
          "output_type": "stream",
          "text": [
            "INFO:werkzeug: * Running on http://127.0.0.1:5000/ (Press CTRL+C to quit)\n"
          ]
        },
        {
          "metadata": {
            "tags": null
          },
          "name": "stdout",
          "output_type": "stream",
          "text": [
            " * Running on http://19df-34-148-60-80.ngrok.io\n",
            " * Traffic stats available on http://127.0.0.1:4040\n"
          ]
        },
        {
          "metadata": {
            "tags": null
          },
          "name": "stderr",
          "output_type": "stream",
          "text": [
            "INFO:werkzeug:127.0.0.1 - - [11/Sep/2022 16:45:16] \"\u001b[33mGET / HTTP/1.1\u001b[0m\" 404 -\n",
            "INFO:werkzeug:127.0.0.1 - - [11/Sep/2022 16:45:18] \"\u001b[33mGET / HTTP/1.1\u001b[0m\" 404 -\n",
            "INFO:werkzeug:127.0.0.1 - - [11/Sep/2022 16:46:05] \"\u001b[37mGET /mine_block HTTP/1.1\u001b[0m\" 200 -\n",
            "INFO:werkzeug:127.0.0.1 - - [11/Sep/2022 16:47:48] \"\u001b[37mGET /get_chain HTTP/1.1\u001b[0m\" 200 -\n",
            "INFO:werkzeug:127.0.0.1 - - [11/Sep/2022 16:48:20] \"\u001b[37mGET /mine_block HTTP/1.1\u001b[0m\" 200 -\n",
            "INFO:werkzeug:127.0.0.1 - - [11/Sep/2022 16:48:28] \"\u001b[37mGET /mine_block HTTP/1.1\u001b[0m\" 200 -\n",
            "INFO:werkzeug:127.0.0.1 - - [11/Sep/2022 16:48:30] \"\u001b[37mGET /mine_block HTTP/1.1\u001b[0m\" 200 -\n",
            "INFO:werkzeug:127.0.0.1 - - [11/Sep/2022 16:48:31] \"\u001b[37mGET /mine_block HTTP/1.1\u001b[0m\" 200 -\n",
            "INFO:werkzeug:127.0.0.1 - - [11/Sep/2022 16:48:32] \"\u001b[37mGET /mine_block HTTP/1.1\u001b[0m\" 200 -\n",
            "INFO:werkzeug:127.0.0.1 - - [11/Sep/2022 16:48:33] \"\u001b[37mGET /mine_block HTTP/1.1\u001b[0m\" 200 -\n",
            "INFO:werkzeug:127.0.0.1 - - [11/Sep/2022 16:48:34] \"\u001b[37mGET /mine_block HTTP/1.1\u001b[0m\" 200 -\n",
            "INFO:werkzeug:127.0.0.1 - - [11/Sep/2022 16:48:56] \"\u001b[37mGET /get_chain HTTP/1.1\u001b[0m\" 200 -\n",
            "INFO:werkzeug:127.0.0.1 - - [11/Sep/2022 16:50:24] \"\u001b[37mGET /is_valid HTTP/1.1\u001b[0m\" 200 -\n"
          ]
        }
      ],
      "source": [
        "# Ejecución de la app con Google Colab\n",
        "app.run()\n",
        "\n",
        "# Ejecución externa a Google colab\n",
        "# app.run(host = '0.0.0.0', port = 5000)"
      ]
    }
  ],
  "metadata": {
    "colab": {
      "provenance": [],
      "authorship_tag": "ABX9TyOls4VWqfc9Yuc3g7v/bEX1",
      "include_colab_link": true
    },
    "kernelspec": {
      "display_name": "Python 3",
      "name": "python3"
    },
    "language_info": {
      "name": "python"
    }
  },
  "nbformat": 4,
  "nbformat_minor": 0
}